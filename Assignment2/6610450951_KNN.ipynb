{
 "cells": [
  {
   "cell_type": "markdown",
   "metadata": {},
   "source": [
    "## 6610450951 Tontawan Janthai KNN"
   ]
  },
  {
   "cell_type": "markdown",
   "metadata": {},
   "source": [
    "## Import libs"
   ]
  },
  {
   "cell_type": "code",
   "execution_count": 16,
   "metadata": {},
   "outputs": [],
   "source": [
    "import matplotlib.pyplot as plt\n",
    "import pandas as pd\n",
    "import seaborn as sns\n",
    "from sklearn.neighbors import KNeighborsClassifier\n",
    "from sklearn.model_selection import train_test_split, cross_val_score\n",
    "from sklearn.preprocessing import StandardScaler\n",
    "from sklearn.metrics import accuracy_score, confusion_matrix, classification_report"
   ]
  },
  {
   "cell_type": "markdown",
   "metadata": {},
   "source": [
    "## Read data"
   ]
  },
  {
   "cell_type": "code",
   "execution_count": 2,
   "metadata": {},
   "outputs": [
    {
     "data": {
      "text/html": [
       "<div>\n",
       "<style scoped>\n",
       "    .dataframe tbody tr th:only-of-type {\n",
       "        vertical-align: middle;\n",
       "    }\n",
       "\n",
       "    .dataframe tbody tr th {\n",
       "        vertical-align: top;\n",
       "    }\n",
       "\n",
       "    .dataframe thead th {\n",
       "        text-align: right;\n",
       "    }\n",
       "</style>\n",
       "<table border=\"1\" class=\"dataframe\">\n",
       "  <thead>\n",
       "    <tr style=\"text-align: right;\">\n",
       "      <th></th>\n",
       "      <th>เพศ</th>\n",
       "      <th>อายุ</th>\n",
       "      <th>เคยมีแฟนมาแล้ว  (คน)</th>\n",
       "      <th>จำนวนครั้งที่ไปออกกำลังกายต่อสัปดาห์</th>\n",
       "      <th>ระยะเวลาการนอน</th>\n",
       "      <th>นิสิยการกินอาหาร</th>\n",
       "      <th>เคยคิดฆ่าตัวตาย</th>\n",
       "      <th>จำนวนชั่วโมงที่เข้าห้องสมุดในหนึ่งสัปดาห์</th>\n",
       "      <th>ระดับความเครียดด้านการเงิน</th>\n",
       "      <th>เคยกินยานอนหลับ</th>\n",
       "      <th>ภาวะซึมเศร้า</th>\n",
       "    </tr>\n",
       "  </thead>\n",
       "  <tbody>\n",
       "    <tr>\n",
       "      <th>0</th>\n",
       "      <td>Male</td>\n",
       "      <td>28</td>\n",
       "      <td>5</td>\n",
       "      <td>3</td>\n",
       "      <td>5-6 ชั่วโมง</td>\n",
       "      <td>อาหารสุขภาพ</td>\n",
       "      <td>Yes</td>\n",
       "      <td>8</td>\n",
       "      <td>3</td>\n",
       "      <td>Yes</td>\n",
       "      <td>Yes</td>\n",
       "    </tr>\n",
       "    <tr>\n",
       "      <th>1</th>\n",
       "      <td>Male</td>\n",
       "      <td>23</td>\n",
       "      <td>5</td>\n",
       "      <td>2</td>\n",
       "      <td>มากกว่า 8 ชั่วโมง</td>\n",
       "      <td>อาหารทั่วไป</td>\n",
       "      <td>No</td>\n",
       "      <td>10</td>\n",
       "      <td>4</td>\n",
       "      <td>No</td>\n",
       "      <td>Yes</td>\n",
       "    </tr>\n",
       "    <tr>\n",
       "      <th>2</th>\n",
       "      <td>Female</td>\n",
       "      <td>23</td>\n",
       "      <td>1</td>\n",
       "      <td>3</td>\n",
       "      <td>น้อยกว่า 5 ชั่วโมง</td>\n",
       "      <td>อาหารสุขภาพ</td>\n",
       "      <td>Yes</td>\n",
       "      <td>0</td>\n",
       "      <td>3</td>\n",
       "      <td>No</td>\n",
       "      <td>No</td>\n",
       "    </tr>\n",
       "    <tr>\n",
       "      <th>3</th>\n",
       "      <td>Female</td>\n",
       "      <td>20</td>\n",
       "      <td>5</td>\n",
       "      <td>5</td>\n",
       "      <td>มากกว่า 8 ชั่วโมง</td>\n",
       "      <td>Junkfood</td>\n",
       "      <td>Yes</td>\n",
       "      <td>2</td>\n",
       "      <td>5</td>\n",
       "      <td>No</td>\n",
       "      <td>Yes</td>\n",
       "    </tr>\n",
       "    <tr>\n",
       "      <th>4</th>\n",
       "      <td>Male</td>\n",
       "      <td>29</td>\n",
       "      <td>4</td>\n",
       "      <td>3</td>\n",
       "      <td>มากกว่า 8 ชั่วโมง</td>\n",
       "      <td>Junkfood</td>\n",
       "      <td>Yes</td>\n",
       "      <td>1</td>\n",
       "      <td>3</td>\n",
       "      <td>No</td>\n",
       "      <td>Yes</td>\n",
       "    </tr>\n",
       "  </tbody>\n",
       "</table>\n",
       "</div>"
      ],
      "text/plain": [
       "      เพศ  อายุ เคยมีแฟนมาแล้ว  (คน) จำนวนครั้งที่ไปออกกำลังกายต่อสัปดาห์  \\\n",
       "0    Male    28                    5                                    3   \n",
       "1    Male    23                    5                                    2   \n",
       "2  Female    23                    1                                    3   \n",
       "3  Female    20                    5                                    5   \n",
       "4    Male    29                    4                                    3   \n",
       "\n",
       "       ระยะเวลาการนอน นิสิยการกินอาหาร เคยคิดฆ่าตัวตาย  \\\n",
       "0         5-6 ชั่วโมง      อาหารสุขภาพ             Yes   \n",
       "1   มากกว่า 8 ชั่วโมง      อาหารทั่วไป              No   \n",
       "2  น้อยกว่า 5 ชั่วโมง      อาหารสุขภาพ             Yes   \n",
       "3   มากกว่า 8 ชั่วโมง         Junkfood             Yes   \n",
       "4   มากกว่า 8 ชั่วโมง         Junkfood             Yes   \n",
       "\n",
       "  จำนวนชั่วโมงที่เข้าห้องสมุดในหนึ่งสัปดาห์ ระดับความเครียดด้านการเงิน  \\\n",
       "0                                         8                          3   \n",
       "1                                        10                          4   \n",
       "2                                         0                          3   \n",
       "3                                         2                          5   \n",
       "4                                         1                          3   \n",
       "\n",
       "  เคยกินยานอนหลับ ภาวะซึมเศร้า  \n",
       "0             Yes          Yes  \n",
       "1              No          Yes  \n",
       "2              No           No  \n",
       "3              No          Yes  \n",
       "4              No          Yes  "
      ]
     },
     "execution_count": 2,
     "metadata": {},
     "output_type": "execute_result"
    }
   ],
   "source": [
    "df = pd.read_excel(\"Psycology.xls\")\n",
    "df.head()"
   ]
  },
  {
   "cell_type": "code",
   "execution_count": 3,
   "metadata": {},
   "outputs": [
    {
     "data": {
      "text/plain": [
       "Index(['เพศ', 'อายุ', 'เคยมีแฟนมาแล้ว  (คน)',\n",
       "       'จำนวนครั้งที่ไปออกกำลังกายต่อสัปดาห์', 'ระยะเวลาการนอน',\n",
       "       'นิสิยการกินอาหาร', 'เคยคิดฆ่าตัวตาย',\n",
       "       'จำนวนชั่วโมงที่เข้าห้องสมุดในหนึ่งสัปดาห์',\n",
       "       'ระดับความเครียดด้านการเงิน', 'เคยกินยานอนหลับ', 'ภาวะซึมเศร้า'],\n",
       "      dtype='object')"
      ]
     },
     "execution_count": 3,
     "metadata": {},
     "output_type": "execute_result"
    }
   ],
   "source": [
    "df.columns"
   ]
  },
  {
   "cell_type": "markdown",
   "metadata": {},
   "source": [
    "### See if there is any suspicious values"
   ]
  },
  {
   "cell_type": "code",
   "execution_count": 4,
   "metadata": {},
   "outputs": [
    {
     "name": "stdout",
     "output_type": "stream",
     "text": [
      "เพศ  ['Male' 'Female']\n",
      "อายุ  [28 23 20 29 31 24 33 25 19 34 21 30 32 26 22 27 18]\n",
      "เคยมีแฟนมาแล้ว  (คน)  [5 1 4 2 3 '?']\n",
      "จำนวนครั้งที่ไปออกกำลังกายต่อสัปดาห์  [3 2 5 4 '?' 1]\n",
      "ระยะเวลาการนอน ['5-6 ชั่วโมง' 'มากกว่า 8 ชั่วโมง' 'น้อยกว่า 5 ชั่วโมง' '7-8 ชั่วโมง']\n",
      "นิสิยการกินอาหาร  ['อาหารสุขภาพ' 'อาหารทั่วไป' 'Junkfood']\n",
      "เคยคิดฆ่าตัวตาย  ['Yes' 'No']\n",
      "จำนวนชั่วโมงที่เข้าห้องสมุดในหนึ่งสัปดาห์  [8 10 0 2 1 3 11 12 9 7 4 6 '?' 5]\n",
      "ระดับความเครียดด้านการเงิน  [3 4 5 '?' 1 2]\n",
      "เคยกินยานอนหลับ  ['Yes' 'No']\n",
      "ภาวะซึมเศร้า ['Yes' 'No']\n"
     ]
    }
   ],
   "source": [
    "genders = df['เพศ'].unique()\n",
    "ages = df['อายุ'].unique()\n",
    "girlfriend_amount = df['เคยมีแฟนมาแล้ว  (คน)'].unique()\n",
    "exercise = df['จำนวนครั้งที่ไปออกกำลังกายต่อสัปดาห์'].unique()\n",
    "sleep_time = df['ระยะเวลาการนอน'].unique()\n",
    "food_habit = df['นิสิยการกินอาหาร'].unique()\n",
    "sucide = df['เคยคิดฆ่าตัวตาย'].unique()\n",
    "library_time = df['จำนวนชั่วโมงที่เข้าห้องสมุดในหนึ่งสัปดาห์'].unique()\n",
    "money_status = df['ระดับความเครียดด้านการเงิน'].unique()\n",
    "sleeping_pill = df['เคยกินยานอนหลับ'].unique()\n",
    "is_sadness = df['ภาวะซึมเศร้า'].unique()\n",
    "\n",
    "print('เพศ ', genders)\n",
    "print('อายุ ', ages)\n",
    "print('เคยมีแฟนมาแล้ว  (คน) ', girlfriend_amount)\n",
    "print('จำนวนครั้งที่ไปออกกำลังกายต่อสัปดาห์ ', exercise)\n",
    "print('ระยะเวลาการนอน', sleep_time)\n",
    "print('นิสิยการกินอาหาร ', food_habit)\n",
    "print('เคยคิดฆ่าตัวตาย ', sucide)\n",
    "print('จำนวนชั่วโมงที่เข้าห้องสมุดในหนึ่งสัปดาห์ ', library_time)\n",
    "print('ระดับความเครียดด้านการเงิน ', money_status)\n",
    "print('เคยกินยานอนหลับ ', sleeping_pill)\n",
    "print('ภาวะซึมเศร้า', is_sadness)"
   ]
  },
  {
   "cell_type": "markdown",
   "metadata": {},
   "source": [
    "### Ignore all rows that has '?' in it"
   ]
  },
  {
   "cell_type": "code",
   "execution_count": 5,
   "metadata": {},
   "outputs": [
    {
     "name": "stdout",
     "output_type": "stream",
     "text": [
      "Data size before cut is 502\n",
      "Data size after cut is 467\n"
     ]
    }
   ],
   "source": [
    "#Before\n",
    "print(f\"Data size before cut is {df.shape[0]}\")\n",
    "\n",
    "#cut\n",
    "df = df[~df.isin(['?']).any(axis=1)]\n",
    "\n",
    "#After\n",
    "print(f\"Data size after cut is {df.shape[0]}\")\n"
   ]
  },
  {
   "cell_type": "markdown",
   "metadata": {},
   "source": [
    "### Data Mapping"
   ]
  },
  {
   "cell_type": "code",
   "execution_count": 6,
   "metadata": {},
   "outputs": [
    {
     "name": "stderr",
     "output_type": "stream",
     "text": [
      "C:\\Users\\spire\\AppData\\Local\\Temp\\ipykernel_81572\\2237283390.py:1: FutureWarning: Downcasting behavior in `replace` is deprecated and will be removed in a future version. To retain the old behavior, explicitly call `result.infer_objects(copy=False)`. To opt-in to the future behavior, set `pd.set_option('future.no_silent_downcasting', True)`\n",
      "  df['เพศ'] = df['เพศ'].replace({'Male': 1, 'Female': 0})\n",
      "C:\\Users\\spire\\AppData\\Local\\Temp\\ipykernel_81572\\2237283390.py:7: FutureWarning: Downcasting behavior in `replace` is deprecated and will be removed in a future version. To retain the old behavior, explicitly call `result.infer_objects(copy=False)`. To opt-in to the future behavior, set `pd.set_option('future.no_silent_downcasting', True)`\n",
      "  df['ระยะเวลาการนอน'] = df['ระยะเวลาการนอน'].replace({\n",
      "C:\\Users\\spire\\AppData\\Local\\Temp\\ipykernel_81572\\2237283390.py:14: FutureWarning: Downcasting behavior in `replace` is deprecated and will be removed in a future version. To retain the old behavior, explicitly call `result.infer_objects(copy=False)`. To opt-in to the future behavior, set `pd.set_option('future.no_silent_downcasting', True)`\n",
      "  df['นิสิยการกินอาหาร'] = df['นิสิยการกินอาหาร'].replace({\n",
      "C:\\Users\\spire\\AppData\\Local\\Temp\\ipykernel_81572\\2237283390.py:20: FutureWarning: Downcasting behavior in `replace` is deprecated and will be removed in a future version. To retain the old behavior, explicitly call `result.infer_objects(copy=False)`. To opt-in to the future behavior, set `pd.set_option('future.no_silent_downcasting', True)`\n",
      "  df['เคยคิดฆ่าตัวตาย'] = df['เคยคิดฆ่าตัวตาย'].replace({'Yes': 1, 'No': 0})\n",
      "C:\\Users\\spire\\AppData\\Local\\Temp\\ipykernel_81572\\2237283390.py:25: FutureWarning: Downcasting behavior in `replace` is deprecated and will be removed in a future version. To retain the old behavior, explicitly call `result.infer_objects(copy=False)`. To opt-in to the future behavior, set `pd.set_option('future.no_silent_downcasting', True)`\n",
      "  df['เคยกินยานอนหลับ'] = df['เคยกินยานอนหลับ'].replace({'Yes': 1, 'No': 0})\n",
      "C:\\Users\\spire\\AppData\\Local\\Temp\\ipykernel_81572\\2237283390.py:26: FutureWarning: Downcasting behavior in `replace` is deprecated and will be removed in a future version. To retain the old behavior, explicitly call `result.infer_objects(copy=False)`. To opt-in to the future behavior, set `pd.set_option('future.no_silent_downcasting', True)`\n",
      "  df['ภาวะซึมเศร้า'] = df['ภาวะซึมเศร้า'].replace({'Yes': 1, 'No': 0})\n"
     ]
    },
    {
     "data": {
      "text/html": [
       "<div>\n",
       "<style scoped>\n",
       "    .dataframe tbody tr th:only-of-type {\n",
       "        vertical-align: middle;\n",
       "    }\n",
       "\n",
       "    .dataframe tbody tr th {\n",
       "        vertical-align: top;\n",
       "    }\n",
       "\n",
       "    .dataframe thead th {\n",
       "        text-align: right;\n",
       "    }\n",
       "</style>\n",
       "<table border=\"1\" class=\"dataframe\">\n",
       "  <thead>\n",
       "    <tr style=\"text-align: right;\">\n",
       "      <th></th>\n",
       "      <th>เพศ</th>\n",
       "      <th>อายุ</th>\n",
       "      <th>เคยมีแฟนมาแล้ว  (คน)</th>\n",
       "      <th>จำนวนครั้งที่ไปออกกำลังกายต่อสัปดาห์</th>\n",
       "      <th>ระยะเวลาการนอน</th>\n",
       "      <th>นิสิยการกินอาหาร</th>\n",
       "      <th>เคยคิดฆ่าตัวตาย</th>\n",
       "      <th>จำนวนชั่วโมงที่เข้าห้องสมุดในหนึ่งสัปดาห์</th>\n",
       "      <th>ระดับความเครียดด้านการเงิน</th>\n",
       "      <th>เคยกินยานอนหลับ</th>\n",
       "      <th>ภาวะซึมเศร้า</th>\n",
       "    </tr>\n",
       "  </thead>\n",
       "  <tbody>\n",
       "    <tr>\n",
       "      <th>0</th>\n",
       "      <td>1</td>\n",
       "      <td>28</td>\n",
       "      <td>5</td>\n",
       "      <td>3</td>\n",
       "      <td>5.5</td>\n",
       "      <td>0</td>\n",
       "      <td>1</td>\n",
       "      <td>8</td>\n",
       "      <td>3</td>\n",
       "      <td>1</td>\n",
       "      <td>1</td>\n",
       "    </tr>\n",
       "    <tr>\n",
       "      <th>1</th>\n",
       "      <td>1</td>\n",
       "      <td>23</td>\n",
       "      <td>5</td>\n",
       "      <td>2</td>\n",
       "      <td>8.5</td>\n",
       "      <td>1</td>\n",
       "      <td>0</td>\n",
       "      <td>10</td>\n",
       "      <td>4</td>\n",
       "      <td>0</td>\n",
       "      <td>1</td>\n",
       "    </tr>\n",
       "    <tr>\n",
       "      <th>2</th>\n",
       "      <td>0</td>\n",
       "      <td>23</td>\n",
       "      <td>1</td>\n",
       "      <td>3</td>\n",
       "      <td>4.5</td>\n",
       "      <td>0</td>\n",
       "      <td>1</td>\n",
       "      <td>0</td>\n",
       "      <td>3</td>\n",
       "      <td>0</td>\n",
       "      <td>0</td>\n",
       "    </tr>\n",
       "    <tr>\n",
       "      <th>3</th>\n",
       "      <td>0</td>\n",
       "      <td>20</td>\n",
       "      <td>5</td>\n",
       "      <td>5</td>\n",
       "      <td>8.5</td>\n",
       "      <td>2</td>\n",
       "      <td>1</td>\n",
       "      <td>2</td>\n",
       "      <td>5</td>\n",
       "      <td>0</td>\n",
       "      <td>1</td>\n",
       "    </tr>\n",
       "    <tr>\n",
       "      <th>4</th>\n",
       "      <td>1</td>\n",
       "      <td>29</td>\n",
       "      <td>4</td>\n",
       "      <td>3</td>\n",
       "      <td>8.5</td>\n",
       "      <td>2</td>\n",
       "      <td>1</td>\n",
       "      <td>1</td>\n",
       "      <td>3</td>\n",
       "      <td>0</td>\n",
       "      <td>1</td>\n",
       "    </tr>\n",
       "  </tbody>\n",
       "</table>\n",
       "</div>"
      ],
      "text/plain": [
       "   เพศ  อายุ เคยมีแฟนมาแล้ว  (คน) จำนวนครั้งที่ไปออกกำลังกายต่อสัปดาห์  \\\n",
       "0    1    28                    5                                    3   \n",
       "1    1    23                    5                                    2   \n",
       "2    0    23                    1                                    3   \n",
       "3    0    20                    5                                    5   \n",
       "4    1    29                    4                                    3   \n",
       "\n",
       "   ระยะเวลาการนอน  นิสิยการกินอาหาร  เคยคิดฆ่าตัวตาย  \\\n",
       "0             5.5                 0                1   \n",
       "1             8.5                 1                0   \n",
       "2             4.5                 0                1   \n",
       "3             8.5                 2                1   \n",
       "4             8.5                 2                1   \n",
       "\n",
       "  จำนวนชั่วโมงที่เข้าห้องสมุดในหนึ่งสัปดาห์ ระดับความเครียดด้านการเงิน  \\\n",
       "0                                         8                          3   \n",
       "1                                        10                          4   \n",
       "2                                         0                          3   \n",
       "3                                         2                          5   \n",
       "4                                         1                          3   \n",
       "\n",
       "   เคยกินยานอนหลับ  ภาวะซึมเศร้า  \n",
       "0                1             1  \n",
       "1                0             1  \n",
       "2                0             0  \n",
       "3                0             1  \n",
       "4                0             1  "
      ]
     },
     "execution_count": 6,
     "metadata": {},
     "output_type": "execute_result"
    }
   ],
   "source": [
    "df['เพศ'] = df['เพศ'].replace({'Male': 1, 'Female': 0})\n",
    "\n",
    "#'อายุ' is no need for mapping\n",
    "#'เคยมีแฟนมาแล้ว  (คน)' is no need for mapping\n",
    "#'จำนวนครั้งที่ไปออกกำลังกายต่อสัปดาห์' is no need for mapping\n",
    "\n",
    "df['ระยะเวลาการนอน'] = df['ระยะเวลาการนอน'].replace({\n",
    "    '5-6 ชั่วโมง': 5.5,\n",
    "    'มากกว่า 8 ชั่วโมง': 8.5,\n",
    "    'น้อยกว่า 5 ชั่วโมง': 4.5,\n",
    "    '7-8 ชั่วโมง': 7.5\n",
    "})\n",
    "\n",
    "df['นิสิยการกินอาหาร'] = df['นิสิยการกินอาหาร'].replace({\n",
    "    'อาหารสุขภาพ': 0, \n",
    "    'อาหารทั่วไป': 1, \n",
    "    'Junkfood': 2\n",
    "})\n",
    "\n",
    "df['เคยคิดฆ่าตัวตาย'] = df['เคยคิดฆ่าตัวตาย'].replace({'Yes': 1, 'No': 0})\n",
    "\n",
    "#'จำนวนชั่วโมงที่เข้าห้องสมุดในหนึ่งสัปดาห์' is no need for mapping\n",
    "#'ระดับความเครียดด้านการเงิน' is no need for mapping\n",
    "\n",
    "df['เคยกินยานอนหลับ'] = df['เคยกินยานอนหลับ'].replace({'Yes': 1, 'No': 0})\n",
    "df['ภาวะซึมเศร้า'] = df['ภาวะซึมเศร้า'].replace({'Yes': 1, 'No': 0})\n",
    "\n",
    "df.head()"
   ]
  },
  {
   "cell_type": "markdown",
   "metadata": {},
   "source": [
    "## Prepare Training Data"
   ]
  },
  {
   "cell_type": "code",
   "execution_count": 9,
   "metadata": {},
   "outputs": [],
   "source": [
    "X = df.drop('ภาวะซึมเศร้า', axis=1).values\n",
    "\n",
    "scaler = StandardScaler()\n",
    "X = scaler.fit_transform(X.astype(float))\n",
    "y = df['ภาวะซึมเศร้า'].values"
   ]
  },
  {
   "cell_type": "code",
   "execution_count": 10,
   "metadata": {},
   "outputs": [],
   "source": [
    "X_train, X_test, y_train, y_test = train_test_split(X, y, test_size=0.2, random_state=12)"
   ]
  },
  {
   "cell_type": "markdown",
   "metadata": {},
   "source": [
    "## KNN 5 folds"
   ]
  },
  {
   "cell_type": "code",
   "execution_count": 11,
   "metadata": {},
   "outputs": [],
   "source": [
    "k_values = range(1, 100)\n",
    "cv_scores = []\n",
    "for k in k_values:\n",
    "    knn = KNeighborsClassifier(n_neighbors=k)\n",
    "    scores = cross_val_score(knn, X_train, y_train, cv=5, scoring='accuracy')\n",
    "    cv_scores.append(scores.mean()) #Avg of cross-validation (5 folds)"
   ]
  },
  {
   "cell_type": "markdown",
   "metadata": {},
   "source": [
    "## Optimal K Values"
   ]
  },
  {
   "cell_type": "code",
   "execution_count": 14,
   "metadata": {},
   "outputs": [
    {
     "name": "stdout",
     "output_type": "stream",
     "text": [
      "[60]\n"
     ]
    }
   ],
   "source": [
    "optimal_k_values = [k_values[i] for i in range(len(cv_scores)) if cv_scores[i] == max(cv_scores)]\n",
    "print(optimal_k_values)"
   ]
  },
  {
   "cell_type": "code",
   "execution_count": 17,
   "metadata": {},
   "outputs": [
    {
     "data": {
      "image/png": "[encoded data removed]",
      "text/plain": [
       "<Figure size 640x480 with 1 Axes>"
      ]
     },
     "metadata": {},
     "output_type": "display_data"
    }
   ],
   "source": [
    "plt.plot(k_values, cv_scores)\n",
    "plt.xlabel('K Value')\n",
    "plt.ylabel('Cross-Validation Accuracy')\n",
    "plt.title('Accuracy - Cross Validation Plot')\n",
    "plt.show()"
   ]
  },
  {
   "cell_type": "markdown",
   "metadata": {},
   "source": [
    "## Testing The Prediction"
   ]
  },
  {
   "cell_type": "code",
   "execution_count": 18,
   "metadata": {},
   "outputs": [
    {
     "data": {
      "text/html": [
       "<div>\n",
       "<style scoped>\n",
       "    .dataframe tbody tr th:only-of-type {\n",
       "        vertical-align: middle;\n",
       "    }\n",
       "\n",
       "    .dataframe tbody tr th {\n",
       "        vertical-align: top;\n",
       "    }\n",
       "\n",
       "    .dataframe thead th {\n",
       "        text-align: right;\n",
       "    }\n",
       "</style>\n",
       "<table border=\"1\" class=\"dataframe\">\n",
       "  <thead>\n",
       "    <tr style=\"text-align: right;\">\n",
       "      <th></th>\n",
       "      <th>ภาวะซึมเศร้า</th>\n",
       "      <th>ภาวะซึมเศร้า_predict</th>\n",
       "    </tr>\n",
       "  </thead>\n",
       "  <tbody>\n",
       "    <tr>\n",
       "      <th>0</th>\n",
       "      <td>1</td>\n",
       "      <td>1.0</td>\n",
       "    </tr>\n",
       "    <tr>\n",
       "      <th>1</th>\n",
       "      <td>1</td>\n",
       "      <td>1.0</td>\n",
       "    </tr>\n",
       "    <tr>\n",
       "      <th>2</th>\n",
       "      <td>0</td>\n",
       "      <td>0.0</td>\n",
       "    </tr>\n",
       "    <tr>\n",
       "      <th>3</th>\n",
       "      <td>1</td>\n",
       "      <td>1.0</td>\n",
       "    </tr>\n",
       "    <tr>\n",
       "      <th>4</th>\n",
       "      <td>1</td>\n",
       "      <td>1.0</td>\n",
       "    </tr>\n",
       "    <tr>\n",
       "      <th>6</th>\n",
       "      <td>0</td>\n",
       "      <td>0.0</td>\n",
       "    </tr>\n",
       "    <tr>\n",
       "      <th>7</th>\n",
       "      <td>0</td>\n",
       "      <td>1.0</td>\n",
       "    </tr>\n",
       "    <tr>\n",
       "      <th>9</th>\n",
       "      <td>1</td>\n",
       "      <td>1.0</td>\n",
       "    </tr>\n",
       "    <tr>\n",
       "      <th>11</th>\n",
       "      <td>0</td>\n",
       "      <td>0.0</td>\n",
       "    </tr>\n",
       "    <tr>\n",
       "      <th>12</th>\n",
       "      <td>1</td>\n",
       "      <td>1.0</td>\n",
       "    </tr>\n",
       "    <tr>\n",
       "      <th>13</th>\n",
       "      <td>0</td>\n",
       "      <td>1.0</td>\n",
       "    </tr>\n",
       "    <tr>\n",
       "      <th>14</th>\n",
       "      <td>0</td>\n",
       "      <td>1.0</td>\n",
       "    </tr>\n",
       "    <tr>\n",
       "      <th>15</th>\n",
       "      <td>1</td>\n",
       "      <td>0.0</td>\n",
       "    </tr>\n",
       "    <tr>\n",
       "      <th>16</th>\n",
       "      <td>1</td>\n",
       "      <td>1.0</td>\n",
       "    </tr>\n",
       "    <tr>\n",
       "      <th>17</th>\n",
       "      <td>1</td>\n",
       "      <td>1.0</td>\n",
       "    </tr>\n",
       "  </tbody>\n",
       "</table>\n",
       "</div>"
      ],
      "text/plain": [
       "    ภาวะซึมเศร้า  ภาวะซึมเศร้า_predict\n",
       "0              1                   1.0\n",
       "1              1                   1.0\n",
       "2              0                   0.0\n",
       "3              1                   1.0\n",
       "4              1                   1.0\n",
       "6              0                   0.0\n",
       "7              0                   1.0\n",
       "9              1                   1.0\n",
       "11             0                   0.0\n",
       "12             1                   1.0\n",
       "13             0                   1.0\n",
       "14             0                   1.0\n",
       "15             1                   0.0\n",
       "16             1                   1.0\n",
       "17             1                   1.0"
      ]
     },
     "execution_count": 18,
     "metadata": {},
     "output_type": "execute_result"
    }
   ],
   "source": [
    "knn = KNeighborsClassifier(n_neighbors= optimal_k_values[0]).fit(X_train, y_train)\n",
    "\n",
    "y_pred = knn.predict(X)\n",
    "df['ภาวะซึมเศร้า_predict'] = pd.DataFrame(y_pred)\n",
    "df[['ภาวะซึมเศร้า','ภาวะซึมเศร้า_predict']].head(15)"
   ]
  },
  {
   "cell_type": "markdown",
   "metadata": {},
   "source": [
    "## Heat Map"
   ]
  },
  {
   "cell_type": "code",
   "execution_count": 20,
   "metadata": {},
   "outputs": [
    {
     "data": {
      "image/png": "[encoded data removed]",
      "text/plain": [
       "<Figure size 640x480 with 2 Axes>"
      ]
     },
     "metadata": {},
     "output_type": "display_data"
    }
   ],
   "source": [
    "acc = round(accuracy_score(y, y_pred), 2)\n",
    "cm = confusion_matrix(y, y_pred)\n",
    "sns.heatmap(cm, annot=True, fmt=\".0f\")\n",
    "plt.xlabel('y_pred')\n",
    "plt.ylabel('y')\n",
    "plt.title(f\"Accuracy Score: {acc}\", size=10)\n",
    "plt.show()"
   ]
  },
  {
   "cell_type": "markdown",
   "metadata": {},
   "source": [
    "## Classification Report"
   ]
  },
  {
   "cell_type": "code",
   "execution_count": 21,
   "metadata": {},
   "outputs": [
    {
     "name": "stdout",
     "output_type": "stream",
     "text": [
      "              precision    recall  f1-score   support\n",
      "\n",
      "           0       0.97      0.86      0.91       229\n",
      "           1       0.88      0.97      0.92       238\n",
      "\n",
      "    accuracy                           0.92       467\n",
      "   macro avg       0.92      0.92      0.92       467\n",
      "weighted avg       0.92      0.92      0.92       467\n",
      "\n"
     ]
    }
   ],
   "source": [
    "print(classification_report(y, y_pred))"
   ]
  }
 ],
 "metadata": {
  "kernelspec": {
   "display_name": "Python 3",
   "language": "python",
   "name": "python3"
  },
  "language_info": {
   "codemirror_mode": {
    "name": "ipython",
    "version": 3
   },
   "file_extension": ".py",
   "mimetype": "text/x-python",
   "name": "python",
   "nbconvert_exporter": "python",
   "pygments_lexer": "ipython3",
   "version": "3.13.1"
  }
 },
 "nbformat": 4,
 "nbformat_minor": 2
}
